{
 "cells": [
  {
   "cell_type": "code",
   "execution_count": 58,
   "metadata": {},
   "outputs": [],
   "source": [
    "from pyppeteer import launch\n",
    "import asyncio\n",
    "# import logging\n",
    "\n",
    "\n",
    "async def get_info(origin, destination,time):\n",
    "\n",
    "    # logger = logging.getLogger('Scrape App')\n",
    "    # logger.setLevel(logging.DEBUG)\n",
    "    # fh = logging.FileHandler('./scrape.log')\n",
    "    # fh.setLevel(logging.DEBUG)\n",
    "    # ch = logging.StreamHandler()\n",
    "    # ch.setLevel(logging.ERROR)\n",
    "    # formatter = logging.Formatter('%(asctime)s-%(name)s-%(levelname)s,%(message)s')\n",
    "    # fh.setFormatter(formatter)\n",
    "    # ch.setFormatter(formatter)\n",
    "    # logger.addHandler(fh)\n",
    "    # logger.addHandler(ch)\n",
    "\n",
    "    browser = await launch(headless=False, autoClose=False, width=1200, height=1200)\n",
    "    page = await browser.newPage()\n",
    "    await page.goto('https://www.vy.no/en/', timeout=50000)\n",
    "\n",
    "    await page.type('[id=departure-place-input]', origin)\n",
    "    await page.waitForXPath('//*[@id=\"departure-place-inputAutocompleteList\"]/li/button',{'visible': True, 'timeout': 50000})\n",
    "    await page.click('[id=departure-place-inputAutocompleteList]', {'clickCount': 1})\n",
    "    await page.type('[id=arrival-place-input]', destination)\n",
    "    await page.waitForXPath('//*[@id=\"arrival-place-inputAutocompleteList\"]/li[2]/button',{'visible': True, 'timeout': 50000})\n",
    "    await page.click('[id=arrival-place-inputAutocompleteList]', {'clickCount': 1})\n",
    "    await page.waitForXPath('//*[@id=\"timepicker--departure\"]',{'visible': True, 'timeout': 50000})\n",
    "    await page.click('[id=timepicker--departure]',{'clickCount': 3})\n",
    "    await page.keyboard.press('Backspace')\n",
    "    await page.type('[id=timepicker--departure]', time)\n",
    "    await page.waitForXPath('//*[@id=\"new-travel-planner\"]',{'visible': True, 'timeout': 50000})\n",
    "    #below the click fuction does not click //*[@id=\"new-travel-planner\"]/div[2]/span[2]/button\n",
    "    form_frame = await page.xpath('//div[@id=\"new-travel-planner\"]')\n",
    "    try:\n",
    "        button = await page.evaluate('''(selector) => document.querySelector(selector).click()''', \"#new-travel-planner > div._f2938568 > span._6cc748f6 > button\")\n",
    "    except Exception as e:\n",
    "        print(e) \n",
    "    print('hihi')\n",
    "    #await page.keyboard.press('Enter')\n",
    "    await asyncio.wait([page.waitForXPath('//div/span[contains(@class,\"_6a6a0e2b\")]',{'visible': True, 'timeout': 90000})])\n",
    "    # await asyncio.wait([page.waitForXPath('//div[contains(@class,\"_c11ce670\")]',{'visible': True, 'timeout': 90000})])\n",
    "    # await page.waitForXPath(\"//*[@id='buy-button-mobile-9e7156bc-f9a6-4196-aa1c-d7fc6b8c093c']\", {'visible': True, 'timeout': 90000})\n",
    "\n",
    "    trip_tim = await page.xpath('//div/span[contains(@class,\"_6a6a0e2b\")]')\n",
    "    price = await page.xpath('//div/button/span[contains(@class ,\"_8c3d6635\")]')\n",
    "    trips = []\n",
    "    arrival_time = []\n",
    "    departure_time = []\n",
    "    prices = []\n",
    "    print('here!')\n",
    "    for j in price:\n",
    "        price_txt = await page.evaluate('(element) => element.textContent', j)\n",
    "        prices.append(price_txt)\n",
    "    print('here2')\n",
    "    prices = prices[::2]\n",
    "    print(prices)\n",
    "\n",
    "    for i in trip_tim:\n",
    "        trip_tim_txt = await page.evaluate('(element) => element.textContent', i)\n",
    "        trips.append(trip_tim_txt)\n",
    "        trips = [x.replace('\\n', '') for x in trips]\n",
    "        trips = list(dict.fromkeys(trips))\n",
    "\n",
    "    new_dep_tim = [x[0:5] for x in trips]\n",
    "    new_arr_tim = [x[8:] for x in trips]\n",
    "    for a in new_arr_tim:\n",
    "        arrival_time.append(a)\n",
    "    for d in new_dep_tim:\n",
    "        departure_time.append(d)\n",
    "    print(departure_time)\n",
    "    print(arrival_time)\n",
    "\n",
    "\n",
    "\n"
   ]
  },
  {
   "cell_type": "code",
   "execution_count": 60,
   "metadata": {},
   "outputs": [
    {
     "name": "stdout",
     "output_type": "stream",
     "text": [
      "hihi\n"
     ]
    },
    {
     "name": "stderr",
     "output_type": "stream",
     "text": [
      "Task exception was never retrieved\n",
      "future: <Task finished name='Task-6546' coro=<_wrap_awaitable() done, defined at /home/kamran/anaconda3/lib/python3.8/asyncio/tasks.py:677> exception=TimeoutError('Waiting for XPath \"//div/span[contains(@class,\"_6a6a0e2b\")]\" failed: timeout 90000ms exceeds.')>\n",
      "Traceback (most recent call last):\n",
      "  File \"/home/kamran/anaconda3/lib/python3.8/asyncio/tasks.py\", line 684, in _wrap_awaitable\n",
      "    return (yield from awaitable.__await__())\n",
      "  File \"/home/kamran/anaconda3/lib/python3.8/site-packages/pyppeteer/frame_manager.py\", line 855, in __await__\n",
      "    raise result\n",
      "pyppeteer.errors.TimeoutError: Waiting for XPath \"//div/span[contains(@class,\"_6a6a0e2b\")]\" failed: timeout 90000ms exceeds.\n"
     ]
    },
    {
     "name": "stdout",
     "output_type": "stream",
     "text": [
      "['Buy from 37,–', 'Buy from 37,–', 'Buy from 37,–', 'Buy from 37,–', 'Buy from 37,–', 'Buy from 37,–']\n",
      "['20:30', '20:32', '20:45', '20:46', '20:59', '21:00']\n",
      "['20:47', '20:47', '20:59', '21:04', '21:13', '21:17']\n"
     ]
    }
   ],
   "source": [
    "await get_info('Allkopi Parkveien', 'Fridtjof Nansens vei','21:00')"
   ]
  },
  {
   "cell_type": "code",
   "execution_count": null,
   "metadata": {},
   "outputs": [],
   "source": []
  }
 ],
 "metadata": {
  "kernelspec": {
   "display_name": "Python 3",
   "language": "python",
   "name": "python3"
  },
  "language_info": {
   "codemirror_mode": {
    "name": "ipython",
    "version": 3
   },
   "file_extension": ".py",
   "mimetype": "text/x-python",
   "name": "python",
   "nbconvert_exporter": "python",
   "pygments_lexer": "ipython3",
   "version": "3.8.5"
  }
 },
 "nbformat": 4,
 "nbformat_minor": 4
}
